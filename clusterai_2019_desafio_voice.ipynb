{
 "cells": [
  {
   "cell_type": "markdown",
   "metadata": {},
   "source": [
    "# ClusterAI: Desafio Voice\n",
    "\n",
    "El siguiente desafio tiene el objetivo de lograr el mejor resultado de clasificacion. Para eso deberan:\n",
    "- Importar las librerias que consideren necesarias.\n",
    "- Importar el dataset.\n",
    "- Realizar los pre-procesamientos que consideren necesarios.\n",
    "- Realizar la visualizacion o estadistica descriptiva que consideren necesaria.\n",
    "- Aplicar feature selection (o no) para luego usar esas features en un modelo clasificador.\n",
    "- Entrenar un modelo supervisado de clasificacion y reportar los resultados.\n",
    "- Las etiquetas de cada muestra estan en la ultima columna \"label\""
   ]
  },
  {
   "cell_type": "code",
   "execution_count": null,
   "metadata": {},
   "outputs": [],
   "source": [
    "##### CODIGO AQUI #####\n",
    "##### CODIGO AQUI #####\n",
    "##### CODIGO AQUI #####\n",
    "##### CODIGO AQUI #####"
   ]
  },
  {
   "cell_type": "code",
   "execution_count": 1,
   "metadata": {},
   "outputs": [],
   "source": [
    "##### CODIGO AQUI #####\n",
    "##### CODIGO AQUI #####\n",
    "##### CODIGO AQUI #####\n",
    "##### CODIGO AQUI #####"
   ]
  },
  {
   "cell_type": "code",
   "execution_count": null,
   "metadata": {},
   "outputs": [],
   "source": [
    "##### CODIGO AQUI #####\n",
    "##### CODIGO AQUI #####\n",
    "##### CODIGO AQUI #####\n",
    "##### CODIGO AQUI #####"
   ]
  }
 ],
 "metadata": {
  "kernelspec": {
   "display_name": "Python 3",
   "language": "python",
   "name": "python3"
  },
  "language_info": {
   "codemirror_mode": {
    "name": "ipython",
    "version": 3
   },
   "file_extension": ".py",
   "mimetype": "text/x-python",
   "name": "python",
   "nbconvert_exporter": "python",
   "pygments_lexer": "ipython3",
   "version": "3.6.8"
  }
 },
 "nbformat": 4,
 "nbformat_minor": 2
}
